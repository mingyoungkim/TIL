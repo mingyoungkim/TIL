{
 "cells": [
  {
   "cell_type": "markdown",
   "id": "through-spencer",
   "metadata": {},
   "source": [
    "# 함수"
   ]
  },
  {
   "cell_type": "markdown",
   "id": "subjective-settle",
   "metadata": {},
   "source": [
    "> 원 면적 : 반지름**2 * 3.14\n",
    "\n",
    "> 원 둘레 : 반지름 * 3.14 * 2"
   ]
  },
  {
   "cell_type": "code",
   "execution_count": 2,
   "id": "acceptable-nothing",
   "metadata": {},
   "outputs": [
    {
     "name": "stdout",
     "output_type": "stream",
     "text": [
      "8\n",
      "2\n",
      "원의 면적 : 9450.116981078694, 원의 둘레 12.56\n"
     ]
    }
   ],
   "source": [
    "def circle(r):\n",
    "    return 3.14 ** r\n",
    "\n",
    "def circle2(r):\n",
    "    return r * 3.14 * 2\n",
    "\n",
    "a = circle(int(input()))\n",
    "b = circle2(int(input()))\n",
    "\n",
    "print('원의 면적 : {}, 원의 둘레 {}' .format(a, b))"
   ]
  },
  {
   "cell_type": "markdown",
   "id": "surprised-museum",
   "metadata": {},
   "source": [
    "> 반목문을 이용해 단어의 순서를 거꾸로 해 반환하는 함수"
   ]
  },
  {
   "cell_type": "code",
   "execution_count": 3,
   "id": "gothic-intention",
   "metadata": {},
   "outputs": [
    {
     "name": "stdout",
     "output_type": "stream",
     "text": [
      "apple\n",
      "입력하신 단어는 회문(Palindrome)이 아닙니다.\n"
     ]
    }
   ],
   "source": [
    "a = input()\n",
    "\n",
    "\n",
    "def revert(string):\n",
    "    result = ''\n",
    "    for i in range(len(string)-1, -1, -1):\n",
    "        result += string[i]\n",
    "    return result\n",
    "\n",
    "string_input = revert(a)\n",
    "if a == string_input:\n",
    "    print(string_input)\n",
    "    print('입력하신 단어는 회문(Palindrome)입니다.')\n",
    "else:\n",
    "    print('입력하신 단어는 회문(Palindrome)이 아닙니다.')"
   ]
  },
  {
   "cell_type": "markdown",
   "id": "waiting-admission",
   "metadata": {},
   "source": [
    "> 사용자 2명으로부터 가위, 바위, 보를 입력 받아 가위, 바위, 보 규칙이 정의된 함수를 이용해 승패를 결정"
   ]
  },
  {
   "cell_type": "code",
   "execution_count": 5,
   "id": "meaningful-clerk",
   "metadata": {},
   "outputs": [
    {
     "name": "stdout",
     "output_type": "stream",
     "text": [
      "미니\n",
      "몽이\n",
      "가위\n",
      "바위\n",
      "바위가 이겼습니다!\n"
     ]
    }
   ],
   "source": [
    "user1, user2 = input(), input()\n",
    "\n",
    "def win(x, y):\n",
    "    result = ''\n",
    "    if x == '가위':\n",
    "        if y == '바위':\n",
    "            print('{}가 이겼습니다!'. format(y))\n",
    "        elif y == '보':\n",
    "            print('{}가 이겼습니다!'. format(x))\n",
    "        else:\n",
    "            print('비겼습니다.')\n",
    "    if x == '바위':\n",
    "        if y == '가위':\n",
    "            print('{}가 이겼습니다!'. format(x))\n",
    "        elif y == '보':\n",
    "            print('{}가 이겼습니다!'. format(y))\n",
    "        else:\n",
    "            print('비겼습니다.')\n",
    "\n",
    "    if x == '보':\n",
    "        if y == '바위':\n",
    "            print('{}가 이겼습니다!'. format(x))\n",
    "        elif y == '가위':\n",
    "            print('{}가 이겼습니다!'. format(y))\n",
    "        else:\n",
    "            print('비겼습니다.')\n",
    "\n",
    "a, b = input(), input()\n",
    "\n",
    "win(a, b)\n"
   ]
  },
  {
   "cell_type": "markdown",
   "id": "loose-raleigh",
   "metadata": {},
   "source": [
    "> 소수를 검사하는 함수 (사용자가 입력한 숫자가 소수인지를 판단하는 프로그램) => 36차시"
   ]
  },
  {
   "cell_type": "code",
   "execution_count": 6,
   "id": "sufficient-falls",
   "metadata": {},
   "outputs": [
    {
     "name": "stdout",
     "output_type": "stream",
     "text": [
      "5\n",
      "소수입니다\n"
     ]
    }
   ],
   "source": [
    "a = int(input())\n",
    "\n",
    "def inspect(number):\n",
    "    # 소수 갯수 넣을 변수 초기화\n",
    "    result = 0    \n",
    "    \n",
    "    for i in range(1, number+1):\n",
    "        num = number % i\n",
    "        if num == 0:\n",
    "            result += 1\n",
    "        else:\n",
    "            result = result\n",
    "    return result\n",
    "\n",
    "\n",
    "number_input = inspect(a)\n",
    "\n",
    "if number_input == 2:\n",
    "    print('소수입니다')\n",
    "else:\n",
    "    print('소수가 아닙니다.')\n",
    "    \n",
    "    \n",
    "\n",
    "# ??????????????????????????????????왜틀림?????????????????????????????????????????????????????????\n",
    "\n"
   ]
  },
  {
   "cell_type": "markdown",
   "id": "revolutionary-natural",
   "metadata": {},
   "source": [
    "> 피보나치 수열의 결과를 생성하는 프로그램\n",
    "\n",
    "        [1, 1, 2, 3, 5, 8, 13, 21, 34, 55]"
   ]
  },
  {
   "cell_type": "code",
   "execution_count": 7,
   "id": "fourth-circle",
   "metadata": {},
   "outputs": [
    {
     "name": "stdout",
     "output_type": "stream",
     "text": [
      "6\n",
      "[1, 1, 2, 3, 5, 8]\n"
     ]
    }
   ],
   "source": [
    "a = int(input())\n",
    "\n",
    "\n",
    "def fibonacci(number):\n",
    "    fibo = [1] * number\n",
    "    for i in range(2, number):\n",
    "        fibo[i] = fibo[i-2] + fibo[i-1]\n",
    "    return fibo\n",
    "\n",
    "number_input = fibonacci(a)\n",
    "print(number_input)\n",
    " "
   ]
  },
  {
   "cell_type": "markdown",
   "id": "virtual-finding",
   "metadata": {},
   "source": [
    "> 리스트의 항목 중 유일한 값으로만 구성된 리스트를 반환하는 함수\n",
    "\n",
    "       => 이 함수를 이용해 리스트의 중복 항목을 제거하는 프로그램"
   ]
  },
  {
   "cell_type": "code",
   "execution_count": 8,
   "id": "joined-muslim",
   "metadata": {},
   "outputs": [
    {
     "name": "stdout",
     "output_type": "stream",
     "text": [
      "[1, 2, 3, 4, 3, 2, 1]\n",
      "[1, 2, 3, 4]\n"
     ]
    }
   ],
   "source": [
    "lst = [1, 2, 3, 4, 3, 2, 1]\n",
    "print(lst)\n",
    "\n",
    "def only(lst):\n",
    "    i = set(lst)\n",
    "    result = list(i)\n",
    "    return result\n",
    "\n",
    "print(only(lst))"
   ]
  },
  {
   "cell_type": "markdown",
   "id": "gentle-regulation",
   "metadata": {},
   "source": [
    "> 정렬된 숫자를 가진 리스트에서 특정 숫자를 찾는 함수를 정의\n",
    "\n",
    "        => 이 함수를 이용해 임의의 숫자의 포함 여부를 출력하는 프로그램"
   ]
  },
  {
   "cell_type": "code",
   "execution_count": 9,
   "id": "round-reminder",
   "metadata": {},
   "outputs": [
    {
     "name": "stdout",
     "output_type": "stream",
     "text": [
      "[2, 4, 6, 8, 10]\n",
      "5 => False\n",
      "10 => True\n"
     ]
    }
   ],
   "source": [
    "lst = [2, 4, 6, 8, 10]\n",
    "\n",
    "def number(num):\n",
    "    for i in lst:\n",
    "        result = ''\n",
    "        if num == i:\n",
    "            result = ('{} => True'.format(num))\n",
    "        else:\n",
    "            result = ('{} => False'.format(num))\n",
    "    return result\n",
    "\n",
    "print(lst)\n",
    "\n",
    "num1 = number(5)\n",
    "num2 = number(10)\n",
    "\n",
    "print(num1)\n",
    "print(num2)"
   ]
  },
  {
   "cell_type": "markdown",
   "id": "liberal-young",
   "metadata": {},
   "source": [
    ">  팩토리얼을 구하는 함수 (입력된 숫자에 대한팩토리얼 값을 구하는 프로그램)"
   ]
  },
  {
   "cell_type": "code",
   "execution_count": 10,
   "id": "found-question",
   "metadata": {},
   "outputs": [
    {
     "name": "stdout",
     "output_type": "stream",
     "text": [
      "5\n",
      "120\n"
     ]
    }
   ],
   "source": [
    "a = int(input())\n",
    "\n",
    "def facto(number):\n",
    "    result = 1\n",
    "    for i in range(1, number+1):\n",
    "        result *= i\n",
    "    return result\n",
    "\n",
    "num = facto(a)\n",
    "print(num)"
   ]
  },
  {
   "cell_type": "markdown",
   "id": "alpha-decrease",
   "metadata": {},
   "source": [
    "> 숫자에 대해 제곱을 구하는 함수를 정의 (숫자를 콤마(,)로 구분해 입력하면 정의한 함수를 이용해 제곱 값을 출력하는 프로그램)"
   ]
  },
  {
   "cell_type": "code",
   "execution_count": 11,
   "id": "varied-bearing",
   "metadata": {},
   "outputs": [
    {
     "name": "stdout",
     "output_type": "stream",
     "text": [
      "3\n",
      "square(3) => 9\n"
     ]
    }
   ],
   "source": [
    "number = input() \n",
    "\n",
    "def double(num):\n",
    "    return ('square({}) => {}' .format(int(num), int(num) **2))\n",
    "    \n",
    "number = number.split(',')\n",
    "for i in number:\n",
    "    double(i)\n",
    "    print(double(i))\n",
    "\n"
   ]
  },
  {
   "cell_type": "markdown",
   "id": "distant-prisoner",
   "metadata": {},
   "source": [
    "> 인자로 전달된 두 개의 문자열 중 길이가 더 긴 문자열을 출력하는 함수 (결과를 출력하는 프로그램을 작성하십시오.)"
   ]
  },
  {
   "cell_type": "code",
   "execution_count": 13,
   "id": "accomplished-economics",
   "metadata": {},
   "outputs": [
    {
     "name": "stdout",
     "output_type": "stream",
     "text": [
      "3\n"
     ]
    },
    {
     "ename": "IndexError",
     "evalue": "list index out of range",
     "output_type": "error",
     "traceback": [
      "\u001b[1;31m---------------------------------------------------------------------------\u001b[0m",
      "\u001b[1;31mIndexError\u001b[0m                                Traceback (most recent call last)",
      "\u001b[1;32m<ipython-input-13-281e15fd4f70>\u001b[0m in \u001b[0;36m<module>\u001b[1;34m\u001b[0m\n\u001b[0;32m     10\u001b[0m \u001b[1;33m\u001b[0m\u001b[0m\n\u001b[0;32m     11\u001b[0m \u001b[0ma_input\u001b[0m \u001b[1;33m=\u001b[0m \u001b[0ma\u001b[0m\u001b[1;33m.\u001b[0m\u001b[0msplit\u001b[0m\u001b[1;33m(\u001b[0m\u001b[1;34m', '\u001b[0m\u001b[1;33m)\u001b[0m\u001b[1;33m\u001b[0m\u001b[1;33m\u001b[0m\u001b[0m\n\u001b[1;32m---> 12\u001b[1;33m \u001b[0mprint\u001b[0m\u001b[1;33m(\u001b[0m\u001b[0mlenth\u001b[0m\u001b[1;33m(\u001b[0m\u001b[0ma_input\u001b[0m\u001b[1;33m)\u001b[0m\u001b[1;33m)\u001b[0m\u001b[1;33m\u001b[0m\u001b[1;33m\u001b[0m\u001b[0m\n\u001b[0m",
      "\u001b[1;32m<ipython-input-13-281e15fd4f70>\u001b[0m in \u001b[0;36mlenth\u001b[1;34m(string)\u001b[0m\n\u001b[0;32m      3\u001b[0m \u001b[1;32mdef\u001b[0m \u001b[0mlenth\u001b[0m\u001b[1;33m(\u001b[0m\u001b[0mstring\u001b[0m\u001b[1;33m)\u001b[0m\u001b[1;33m:\u001b[0m\u001b[1;33m\u001b[0m\u001b[1;33m\u001b[0m\u001b[0m\n\u001b[0;32m      4\u001b[0m     \u001b[0mresult\u001b[0m \u001b[1;33m=\u001b[0m \u001b[1;34m''\u001b[0m\u001b[1;33m\u001b[0m\u001b[1;33m\u001b[0m\u001b[0m\n\u001b[1;32m----> 5\u001b[1;33m     \u001b[1;32mif\u001b[0m \u001b[0mlen\u001b[0m\u001b[1;33m(\u001b[0m\u001b[0mstring\u001b[0m\u001b[1;33m[\u001b[0m\u001b[1;36m0\u001b[0m\u001b[1;33m]\u001b[0m\u001b[1;33m)\u001b[0m \u001b[1;33m>\u001b[0m \u001b[0mlen\u001b[0m\u001b[1;33m(\u001b[0m\u001b[0mstring\u001b[0m\u001b[1;33m[\u001b[0m\u001b[1;36m1\u001b[0m\u001b[1;33m]\u001b[0m\u001b[1;33m)\u001b[0m\u001b[1;33m:\u001b[0m\u001b[1;33m\u001b[0m\u001b[1;33m\u001b[0m\u001b[0m\n\u001b[0m\u001b[0;32m      6\u001b[0m         \u001b[0mresult\u001b[0m \u001b[1;33m=\u001b[0m \u001b[0mstring\u001b[0m\u001b[1;33m[\u001b[0m\u001b[1;36m0\u001b[0m\u001b[1;33m]\u001b[0m\u001b[1;33m\u001b[0m\u001b[1;33m\u001b[0m\u001b[0m\n\u001b[0;32m      7\u001b[0m     \u001b[1;32melse\u001b[0m\u001b[1;33m:\u001b[0m\u001b[1;33m\u001b[0m\u001b[1;33m\u001b[0m\u001b[0m\n",
      "\u001b[1;31mIndexError\u001b[0m: list index out of range"
     ]
    }
   ],
   "source": [
    "a = input()\n",
    "\n",
    "def lenth(string):\n",
    "    result = ''\n",
    "    if len(string[0]) > len(string[1]):\n",
    "        result = string[0]\n",
    "    else:\n",
    "        result = string[1]\n",
    "    return result\n",
    "    \n",
    "a_input = a.split(', ')\n",
    "print(lenth(a_input))"
   ]
  },
  {
   "cell_type": "markdown",
   "id": "cooked-demonstration",
   "metadata": {},
   "source": [
    "> 인자로 전달된 숫자를 이용해 카운트다운하는 함수 countdown\n",
    "\n",
    "        이 함수를 이용하여 countdown(0), countdown(10)을 순서대로 실행\n",
    "        \n",
    "        0보다 작거나 같은 인자가 전달되었을 경우 \"카운트다운을 하려면 0보다 큰 입력이 필요합니다.\"를 출력"
   ]
  },
  {
   "cell_type": "code",
   "execution_count": 14,
   "id": "coordinate-complement",
   "metadata": {},
   "outputs": [
    {
     "name": "stdout",
     "output_type": "stream",
     "text": [
      "카운트다운을 하려면 0보다 큰 입력이 필요합니다.\n",
      "10\n",
      "9\n",
      "8\n",
      "7\n",
      "6\n",
      "5\n",
      "4\n",
      "3\n",
      "2\n",
      "1\n"
     ]
    }
   ],
   "source": [
    "def countdown(number):\n",
    "    if number <= 0:\n",
    "        print('카운트다운을 하려면 0보다 큰 입력이 필요합니다.')\n",
    "    else:\n",
    "        for i in range(number, 0, -1):\n",
    "            print(i)\n",
    "\n",
    "\n",
    "    \n",
    "    \n",
    "\n",
    "countdown(0)\n",
    "countdown(10)"
   ]
  }
 ],
 "metadata": {
  "kernelspec": {
   "display_name": "Python 3",
   "language": "python",
   "name": "python3"
  },
  "language_info": {
   "codemirror_mode": {
    "name": "ipython",
    "version": 3
   },
   "file_extension": ".py",
   "mimetype": "text/x-python",
   "name": "python",
   "nbconvert_exporter": "python",
   "pygments_lexer": "ipython3",
   "version": "3.8.7"
  }
 },
 "nbformat": 4,
 "nbformat_minor": 5
}
