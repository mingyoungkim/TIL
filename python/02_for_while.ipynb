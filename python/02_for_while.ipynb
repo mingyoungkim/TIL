{
 "cells": [
  {
   "cell_type": "markdown",
   "id": "enclosed-flexibility",
   "metadata": {},
   "source": [
    "# 반복문"
   ]
  },
  {
   "cell_type": "markdown",
   "id": "superb-explanation",
   "metadata": {},
   "source": [
    "> 1~200 사이의 정수 중 7의 배수이면서 5의 배수는 아닌 모든 숫자들을 찾아 콤마(,)로 구분된 문자열"
   ]
  },
  {
   "cell_type": "code",
   "execution_count": 1,
   "id": "boring-detector",
   "metadata": {},
   "outputs": [
    {
     "name": "stdout",
     "output_type": "stream",
     "text": [
      "7,14,21,28,42,49,56,63,77,84,91,98,112,119,126,133,147,154,161,168,182,189,196\n"
     ]
    }
   ],
   "source": [
    "result = ''\n",
    "\n",
    "for a in range(1, 201):\n",
    "    if a % 7 == 0 and a % 5 != 0:\n",
    "        result += '%d,' % a\n",
    "print(result[0:len(result)-1])"
   ]
  },
  {
   "cell_type": "markdown",
   "id": "designed-organizer",
   "metadata": {},
   "source": [
    "> 100~300 사이의 숫자 중 각각의 자리 숫자가 짝수인 숫자를 찾아 콤마(,)로 구분해 출력"
   ]
  },
  {
   "cell_type": "code",
   "execution_count": 2,
   "id": "built-phoenix",
   "metadata": {},
   "outputs": [
    {
     "name": "stdout",
     "output_type": "stream",
     "text": [
      "200,202,204,206,208,220,222,224,226,228,240,242,244,246,248,260,262,264,266,268,280,282,284,286,288\n"
     ]
    }
   ],
   "source": [
    "result = ''\n",
    "\n",
    "\n",
    "for i in range(100, 301):\n",
    "    first_i = i // 100\n",
    "    second_i = i % 100 // 10\n",
    "    third_i = i % 10\n",
    "    if not (first_i % 2 or second_i % 2 or third_i % 2):\n",
    "        result += '%d,' % i\n",
    "print(result[0:len(result)-1])"
   ]
  },
  {
   "cell_type": "code",
   "execution_count": 3,
   "id": "serial-client",
   "metadata": {},
   "outputs": [
    {
     "name": "stdout",
     "output_type": "stream",
     "text": [
      "     *\n",
      "    ***\n",
      "   *****\n",
      "  *******\n",
      " *********\n",
      "***********\n"
     ]
    }
   ],
   "source": [
    "i, k = 5, 1\n",
    "# i는 공백에 대한 변수, k는 *에 대한 변수\n",
    "\n",
    "while i >= 0:\n",
    "    print('{}{}' .format(' ' * i, '*' * (2* k -1)))\n",
    "    i = i - 1\n",
    "    k = k + 1"
   ]
  },
  {
   "cell_type": "code",
   "execution_count": 4,
   "id": "raised-vampire",
   "metadata": {},
   "outputs": [
    {
     "name": "stdout",
     "output_type": "stream",
     "text": [
      "*******\n",
      " *****\n",
      "  ***\n",
      "   *\n"
     ]
    }
   ],
   "source": [
    "i = 0\n",
    "k = 7\n",
    "while 0 < k <= 7:\n",
    "    if k % 2:\n",
    "        print('{}{}' .format(i* ' ', k * '*'))\n",
    "        i +=1\n",
    "    k -= 1\n",
    "\n"
   ]
  },
  {
   "cell_type": "markdown",
   "id": "welsh-significance",
   "metadata": {},
   "source": [
    ">  for 반복문"
   ]
  },
  {
   "cell_type": "code",
   "execution_count": 5,
   "id": "parliamentary-calculation",
   "metadata": {},
   "outputs": [
    {
     "name": "stdout",
     "output_type": "stream",
     "text": [
      "1번 학생은 88점으로 합격입니다.\n",
      "2번 학생은 30점으로 불합격입니다.\n",
      "3번 학생은 61점으로 합격입니다.\n",
      "4번 학생은 55점으로 불합격입니다.\n",
      "5번 학생은 95점으로 합격입니다.\n"
     ]
    }
   ],
   "source": [
    "scores = [88, 30, 61, 55, 95]\n",
    "\n",
    "\n",
    "for i in range(0, 5):\n",
    "    if scores[i] >= 60:\n",
    "        print('{}번 학생은 {}점으로 합격입니다.' .format(i+1, scores[i]))\n",
    "    else:\n",
    "        print('{}번 학생은 {}점으로 불합격입니다.' .format(i+1, scores[i]))"
   ]
  },
  {
   "cell_type": "markdown",
   "id": "hollywood-resort",
   "metadata": {},
   "source": [
    "> 혈액형 별 학생 수"
   ]
  },
  {
   "cell_type": "code",
   "execution_count": 6,
   "id": "married-october",
   "metadata": {},
   "outputs": [
    {
     "name": "stdout",
     "output_type": "stream",
     "text": [
      "{'A': 3, 'O': 3, 'B': 2, 'AB': 2}\n"
     ]
    }
   ],
   "source": [
    "bloods = ['A', 'A', 'A', 'O', 'B', 'B', 'O', 'AB', 'AB', 'O']\n",
    "\n",
    "result = {'A': 0, 'O': 0, 'B': 0, 'AB': 0}\n",
    "for i in bloods:\n",
    "    if i == 'A':\n",
    "        result['A'] += 1\n",
    "    elif i == 'B':\n",
    "        result['B'] += 1\n",
    "    elif i == 'O':\n",
    "        result['O'] += 1\n",
    "    else:\n",
    "        result['AB'] += 1\n",
    "print(result)\n",
    "    \n",
    "    "
   ]
  },
  {
   "cell_type": "markdown",
   "id": "incident-comfort",
   "metadata": {},
   "source": [
    "> while 문과 리스트 객체의 pop()을 이용해 80점 이상의 점수들의 총합을 구하시오."
   ]
  },
  {
   "cell_type": "code",
   "execution_count": 7,
   "id": "virgin-catalog",
   "metadata": {},
   "outputs": [
    {
     "ename": "TypeError",
     "evalue": "'>=' not supported between instances of 'list' and 'int'",
     "output_type": "error",
     "traceback": [
      "\u001b[1;31m---------------------------------------------------------------------------\u001b[0m",
      "\u001b[1;31mTypeError\u001b[0m                                 Traceback (most recent call last)",
      "\u001b[1;32m<ipython-input-7-50176b0ca1b7>\u001b[0m in \u001b[0;36m<module>\u001b[1;34m\u001b[0m\n\u001b[0;32m      1\u001b[0m \u001b[0mscores\u001b[0m \u001b[1;33m=\u001b[0m \u001b[1;33m[\u001b[0m\u001b[1;36m85\u001b[0m\u001b[1;33m,\u001b[0m \u001b[1;36m65\u001b[0m\u001b[1;33m,\u001b[0m \u001b[1;36m77\u001b[0m\u001b[1;33m,\u001b[0m \u001b[1;36m83\u001b[0m\u001b[1;33m,\u001b[0m \u001b[1;36m75\u001b[0m\u001b[1;33m,\u001b[0m \u001b[1;36m22\u001b[0m\u001b[1;33m,\u001b[0m \u001b[1;36m98\u001b[0m\u001b[1;33m,\u001b[0m \u001b[1;36m88\u001b[0m\u001b[1;33m,\u001b[0m \u001b[1;36m38\u001b[0m\u001b[1;33m,\u001b[0m \u001b[1;36m100\u001b[0m\u001b[1;33m]\u001b[0m\u001b[1;33m\u001b[0m\u001b[1;33m\u001b[0m\u001b[0m\n\u001b[0;32m      2\u001b[0m \u001b[0mresult\u001b[0m \u001b[1;33m=\u001b[0m \u001b[1;36m0\u001b[0m\u001b[1;33m\u001b[0m\u001b[1;33m\u001b[0m\u001b[0m\n\u001b[1;32m----> 3\u001b[1;33m \u001b[1;32mwhile\u001b[0m \u001b[0mscores\u001b[0m \u001b[1;33m>=\u001b[0m \u001b[1;36m80\u001b[0m\u001b[1;33m:\u001b[0m\u001b[1;33m\u001b[0m\u001b[1;33m\u001b[0m\u001b[0m\n\u001b[0m\u001b[0;32m      4\u001b[0m     \u001b[0mresult\u001b[0m \u001b[1;33m+=\u001b[0m \u001b[0msocres\u001b[0m\u001b[1;33m\u001b[0m\u001b[1;33m\u001b[0m\u001b[0m\n",
      "\u001b[1;31mTypeError\u001b[0m: '>=' not supported between instances of 'list' and 'int'"
     ]
    }
   ],
   "source": [
    "scores = [85, 65, 77, 83, 75, 22, 98, 88, 38, 100]\n",
    "result = 0\n",
    "while scores >= 80:\n",
    "    result += socres\n"
   ]
  },
  {
   "cell_type": "markdown",
   "id": "dirty-georgia",
   "metadata": {},
   "source": [
    "> 양의 정수를 입력하여 그 숫자에 0~9가 몇 번 사용되었는지 표시하십시오."
   ]
  },
  {
   "cell_type": "code",
   "execution_count": 8,
   "id": "extensive-russian",
   "metadata": {},
   "outputs": [
    {
     "ename": "TypeError",
     "evalue": "not all arguments converted during string formatting",
     "output_type": "error",
     "traceback": [
      "\u001b[1;31m---------------------------------------------------------------------------\u001b[0m",
      "\u001b[1;31mTypeError\u001b[0m                                 Traceback (most recent call last)",
      "\u001b[1;32m<ipython-input-8-ae2c959224e7>\u001b[0m in \u001b[0;36m<module>\u001b[1;34m\u001b[0m\n\u001b[0;32m      1\u001b[0m \u001b[0mnumber\u001b[0m \u001b[1;33m=\u001b[0m \u001b[1;34m'string'\u001b[0m\u001b[1;33m\u001b[0m\u001b[1;33m\u001b[0m\u001b[0m\n\u001b[0;32m      2\u001b[0m \u001b[1;33m\u001b[0m\u001b[0m\n\u001b[1;32m----> 3\u001b[1;33m \u001b[0mnumber\u001b[0m \u001b[1;33m%\u001b[0m \u001b[1;36m2\u001b[0m\u001b[1;33m\u001b[0m\u001b[1;33m\u001b[0m\u001b[0m\n\u001b[0m",
      "\u001b[1;31mTypeError\u001b[0m: not all arguments converted during string formatting"
     ]
    }
   ],
   "source": [
    "number = 'string'\n",
    "\n",
    "number % 2"
   ]
  },
  {
   "cell_type": "markdown",
   "id": "proved-detroit",
   "metadata": {},
   "source": [
    "> 10진수를 2진수로 변환"
   ]
  },
  {
   "cell_type": "code",
   "execution_count": 9,
   "id": "technological-frederick",
   "metadata": {},
   "outputs": [
    {
     "name": "stdout",
     "output_type": "stream",
     "text": [
      "10\n",
      "1010\n"
     ]
    },
    {
     "data": {
      "text/plain": [
       "'\\n?????????????????????????????????????????\\n'"
      ]
     },
     "execution_count": 9,
     "metadata": {},
     "output_type": "execute_result"
    }
   ],
   "source": [
    "number = int(input())\n",
    "\n",
    "i = ''\n",
    "while number > 0:\n",
    "    dev = number // 2\n",
    "    mod = number % 2\n",
    "    number = dev\n",
    "    i += str(mod)\n",
    "print(i[::-1])\n",
    "    \n",
    "    \n",
    "'''\n",
    "?????????????????????????????????????????\n",
    "'''\n",
    "    "
   ]
  }
 ],
 "metadata": {
  "kernelspec": {
   "display_name": "Python 3",
   "language": "python",
   "name": "python3"
  },
  "language_info": {
   "codemirror_mode": {
    "name": "ipython",
    "version": 3
   },
   "file_extension": ".py",
   "mimetype": "text/x-python",
   "name": "python",
   "nbconvert_exporter": "python",
   "pygments_lexer": "ipython3",
   "version": "3.8.7"
  }
 },
 "nbformat": 4,
 "nbformat_minor": 5
}
