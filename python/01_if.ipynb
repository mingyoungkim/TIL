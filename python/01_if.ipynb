{
 "cells": [
  {
   "cell_type": "markdown",
   "id": "innocent-rainbow",
   "metadata": {},
   "source": [
    "# 조건문"
   ]
  },
  {
   "cell_type": "markdown",
   "id": "organized-differential",
   "metadata": {},
   "source": [
    "> if 문으로 계산기 만들기"
   ]
  },
  {
   "cell_type": "code",
   "execution_count": 2,
   "id": "fatal-peter",
   "metadata": {
    "scrolled": true
   },
   "outputs": [
    {
     "name": "stdout",
     "output_type": "stream",
     "text": [
      "첫 번째 숫자를 입력하세요: 5\n",
      "연산자를 입력하세요 (+, -, *, /): -\n",
      "두 번째 숫자를 입력하세요: 2\n",
      "3\n"
     ]
    }
   ],
   "source": [
    "a, b, c = 0, '', 0\n",
    "a = int(input('첫 번째 숫자를 입력하세요: '))\n",
    "b = input('연산자를 입력하세요 (+, -, *, /): ')\n",
    "c = int(input('두 번째 숫자를 입력하세요: '))\n",
    "    \n",
    "if b == '+':\n",
    "    print(a + c)\n",
    "elif b == '-':\n",
    "    print(a - c)\n",
    "elif b == '*':\n",
    "    print(a * c)\n",
    "elif b == '/':\n",
    "    print(a / c)\n",
    "else:\n",
    "    print(\"'%s'는 본 프로그램에서 지원하지 않는 연산자입니다.\" % b)\n",
    "        \n",
    "# print('%d / %d = %.2f' % (a, c, a // c))"
   ]
  },
  {
   "cell_type": "markdown",
   "id": "incoming-luxury",
   "metadata": {},
   "source": [
    "> 약수 구하기"
   ]
  },
  {
   "cell_type": "code",
   "execution_count": 4,
   "id": "important-carpet",
   "metadata": {
    "scrolled": false
   },
   "outputs": [
    {
     "name": "stdout",
     "output_type": "stream",
     "text": [
      "5\n",
      "1(은)는 5의 약수입니다.\n",
      "5(은)는 5의 약수입니다.\n",
      "5(은)는 1과 5로만 나눌 수 있는 소수입니다.\n"
     ]
    }
   ],
   "source": [
    "a = int(input())\n",
    "count = 0\n",
    "for i in range(1, a+1):\n",
    "    if a % i == 0:\n",
    "        print('%d(은)는 %d의 약수입니다.' % (i, a))\n",
    "        count += 1\n",
    "if count == 2:\n",
    "    print('%d(은)는 1과 %d로만 나눌 수 있는 소수입니다.' % (a, a))"
   ]
  },
  {
   "cell_type": "markdown",
   "id": "moving-benchmark",
   "metadata": {},
   "source": [
    "> 대소문자 구분"
   ]
  },
  {
   "cell_type": "code",
   "execution_count": 11,
   "id": "checked-pierre",
   "metadata": {
    "scrolled": false
   },
   "outputs": [
    {
     "name": "stdout",
     "output_type": "stream",
     "text": [
      "b\n",
      "b 는 소문자 입니다.\n"
     ]
    }
   ],
   "source": [
    "letter = str(input())\n",
    "\n",
    "if 'a' <= letter <= 'z':\n",
    "    print('%s 는 소문자 입니다.' % letter)\n",
    "else:\n",
    "    print('%s 는 대문자 입니다.' % letter)"
   ]
  },
  {
   "cell_type": "markdown",
   "id": "geological-search",
   "metadata": {},
   "source": [
    "> 대소문자 및 아스키 코드"
   ]
  },
  {
   "cell_type": "code",
   "execution_count": 32,
   "id": "impaired-theater",
   "metadata": {
    "scrolled": true
   },
   "outputs": [
    {
     "name": "stdout",
     "output_type": "stream",
     "text": [
      "s\n",
      "s(ASCII: 115) => S(ASCII: 83)\n"
     ]
    }
   ],
   "source": [
    "letter = str(input())\n",
    "\n",
    "if letter.islower():\n",
    "    print('%s(ASCII: %d) => %s(ASCII: %d)' % (letter, ord(letter), letter.upper(), ord(letter.upper())))\n",
    "elif letter.isupper():\n",
    "    print('%s(ASCII: %d) => %s(ASCII: %d)' % (letter, ord(letter), letter.lower(), ord(letter.lower())))\n",
    "else:\n",
    "    print(letter)"
   ]
  }
 ],
 "metadata": {
  "kernelspec": {
   "display_name": "Python 3",
   "language": "python",
   "name": "python3"
  },
  "language_info": {
   "codemirror_mode": {
    "name": "ipython",
    "version": 3
   },
   "file_extension": ".py",
   "mimetype": "text/x-python",
   "name": "python",
   "nbconvert_exporter": "python",
   "pygments_lexer": "ipython3",
   "version": "3.8.7"
  }
 },
 "nbformat": 4,
 "nbformat_minor": 5
}
